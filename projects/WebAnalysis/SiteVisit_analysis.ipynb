{
 "cells": [
  {
   "cell_type": "code",
   "execution_count": 2,
   "metadata": {},
   "outputs": [
    {
     "name": "stdout",
     "output_type": "stream",
     "text": [
      "['Q1 Analytics', 'Q2 Regression']\n"
     ]
    }
   ],
   "source": [
    "# Import packages and load file\n",
    "import pandas as pd\n",
    "import pandasql as ps\n",
    "pysql = lambda q: ps.sqldf(q, globals())\n",
    "\n",
    "file = 'Adops & Data Scientist Sample Data.xlsx'\n",
    "\n",
    "# Load file\n",
    "xls = pd.ExcelFile(file)\n",
    "\n",
    "# Check if file loaded properly\n",
    "print(xls.sheet_names)"
   ]
  },
  {
   "cell_type": "code",
   "execution_count": 3,
   "metadata": {},
   "outputs": [
    {
     "name": "stdout",
     "output_type": "stream",
     "text": [
      "                    ts user_id country_id site_id\n",
      "0  2019-02-01 00:01:24  LC36FC        TL6   N0OTG\n",
      "1  2019-02-01 00:10:19  LC39B6        TL6   N0OTG\n",
      "2  2019-02-01 00:21:50  LC3500        TL6   N0OTG\n",
      "3  2019-02-01 00:22:50  LC374F        TL6   N0OTG\n",
      "4  2019-02-01 00:23:44  LCC1C3        TL6   QGO3G\n",
      "(3553, 4)\n"
     ]
    }
   ],
   "source": [
    "# Load data to dataframe\n",
    "df_analytics = xls.parse('Q1 Analytics', skiprows = 0)\n",
    "\n",
    "# First look at data\n",
    "print(df_analytics.head())\n",
    "print(df_analytics.shape)"
   ]
  },
  {
   "cell_type": "code",
   "execution_count": 7,
   "metadata": {},
   "outputs": [
    {
     "name": "stdout",
     "output_type": "stream",
     "text": [
      "                     ts user_id country_id site_id\n",
      "13  2019-02-01 00:47:58  LC3C22        BDV   N0OTG\n",
      "32  2019-02-01 02:46:15  LC375A        BDV   5NPAU\n",
      "87  2019-02-01 06:44:42  LC392E        BDV   N0OTG\n",
      "88  2019-02-01 07:36:56  LC3FAE        BDV   5NPAU\n",
      "94  2019-02-01 08:58:35  LC3AFF        BDV   3POLC\n",
      "(844, 4)\n",
      "['N0OTG' '5NPAU' '3POLC']\n",
      "N0OTG (90,)\n",
      "5NPAU (544,)\n",
      "3POLC (2,)\n"
     ]
    }
   ],
   "source": [
    "df_analytics_BDV = df_analytics[df_analytics['country_id'] == \"BDV\"]\n",
    "\n",
    "print(df_analytics_BDV.head())\n",
    "print(df_analytics_BDV.shape)\n",
    "\n",
    "# Unique site_id for BDV\n",
    "set_siteId_BDV = df_analytics_BDV['site_id'].unique()\n",
    "print(set_siteId_BDV)\n",
    "\n",
    "#For each site_id, number of unique user_id's in 844 rows.\n",
    "for sid in set_siteId_BDV:\n",
    "    print(sid, df_analytics_BDV[df_analytics_BDV['site_id'] == sid]['user_id'].unique().shape)"
   ]
  },
  {
   "cell_type": "code",
   "execution_count": 12,
   "metadata": {},
   "outputs": [
    {
     "name": "stdout",
     "output_type": "stream",
     "text": [
      "['N0OTG' 'QGO3G' 'GVOFK' '3POLC' '5NPAU' 'RT9Z6' 'JSUUP' 'EUZ/Q']\n",
      "N0OTG\n",
      "    user_id  count\n",
      "0    LC06C3     25\n",
      "150  LC3A59     26\n",
      "171  LC3C9D     17\n",
      "QGO3G\n",
      "Empty DataFrame\n",
      "Columns: [user_id, count]\n",
      "Index: []\n",
      "GVOFK\n",
      "Empty DataFrame\n",
      "Columns: [user_id, count]\n",
      "Index: []\n",
      "3POLC\n",
      "  user_id  count\n",
      "3  LC3C7E     15\n",
      "5NPAU\n",
      "Empty DataFrame\n",
      "Columns: [user_id, count]\n",
      "Index: []\n",
      "RT9Z6\n",
      "Empty DataFrame\n",
      "Columns: [user_id, count]\n",
      "Index: []\n",
      "JSUUP\n",
      "Empty DataFrame\n",
      "Columns: [user_id, count]\n",
      "Index: []\n",
      "EUZ/Q\n",
      "Empty DataFrame\n",
      "Columns: [user_id, count]\n",
      "Index: []\n"
     ]
    }
   ],
   "source": [
    "# Data between 2019-02-03 00:00:00 and 2019-02-04 23:59:59\n",
    "df_analytics_timeslice = df_analytics[(df_analytics['ts'] >= '2019-02-03 00:00:00') & (df_analytics['ts'] <= '2019-02-04 23:59:59')] \n",
    "\n",
    "# Unique site_id for original dataset\n",
    "set_siteId = df_analytics['site_id'].unique()\n",
    "print(set_siteId)\n",
    "\n",
    "# Sites visited more than 10 times\n",
    "for sid in set_siteId:\n",
    "    df_site_visitFreq = df_analytics_timeslice[df_analytics_timeslice['site_id'] == sid].groupby('user_id').count()['site_id'].reset_index(name=\"count\")   \n",
    "    print(sid) \n",
    "    print(df_site_visitFreq[df_site_visitFreq['count'] >= 10])"
   ]
  },
  {
   "cell_type": "code",
   "execution_count": 15,
   "metadata": {},
   "outputs": [
    {
     "name": "stdout",
     "output_type": "stream",
     "text": [
      "  site_id  total_users\n",
      "0   5NPAU          992\n",
      "1   N0OTG          561\n",
      "2   QGO3G          289\n",
      "3   GVOFK           42\n",
      "4   3POLC           28\n",
      "5   RT9Z6            2\n",
      "6   EUZ/Q            1\n",
      "7   JSUUP            1\n",
      "  site_id  total_users\n",
      "0   5NPAU          992\n",
      "1   N0OTG          561\n",
      "2   QGO3G          289\n"
     ]
    }
   ],
   "source": [
    "q1 = \"\"\"SELECT * FROM df_analytics where user_id == 'LC3561' \"\"\"\n",
    "q2 = \"\"\"SELECT * from (SELECT site_id, user_id, max(ts) FROM df_analytics GROUP BY user_id) where user_id == 'LC3561'\"\"\"\n",
    "q3 = \"\"\"SELECT site_id, user_id, max(ts) FROM df_analytics GROUP BY user_id\"\"\"\n",
    "\n",
    "# Query: All sites, based on metric of last visited site\n",
    "q4 = \"\"\"SELECT site_id, COUNT(user_id) AS total_users FROM (SELECT site_id, user_id, MAX(ts) FROM df_analytics GROUP BY user_id) GROUP BY site_id ORDER BY total_users DESC\"\"\"\n",
    "\n",
    "df1 = pysql(q1)\n",
    "df2 = pysql(q2)\n",
    "df3 = pysql(q4)\n",
    "\n",
    "# All sites, based on metric of last visited site\n",
    "print(df3)\n",
    "df3.shape\n",
    "\n",
    "# Top 3 sites, based on metric of last visited site\n",
    "print(df3[:3])"
   ]
  },
  {
   "cell_type": "code",
   "execution_count": 23,
   "metadata": {},
   "outputs": [
    {
     "name": "stdout",
     "output_type": "stream",
     "text": [
      "  user_id site_id_first       first_visit_ts\n",
      "0  LC00C3         5NPAU  2019-02-03 18:52:50\n",
      "1  LC01C3         5NPAU  2019-02-04 11:35:10\n",
      "2  LC05C3         5NPAU  2019-02-02 14:14:44\n",
      "3  LC06C3         N0OTG  2019-02-01 22:49:39\n",
      "4  LC07C3         5NPAU  2019-02-05 19:06:42\n",
      "(1916, 3)\n",
      "  user_id site_id_last        last_visit_ts\n",
      "0  LC00C3        5NPAU  2019-02-03 18:52:50\n",
      "1  LC01C3        5NPAU  2019-02-04 11:35:10\n",
      "2  LC05C3        5NPAU  2019-02-02 14:14:44\n",
      "3  LC06C3        N0OTG  2019-02-07 01:16:12\n",
      "4  LC07C3        5NPAU  2019-02-05 19:06:42\n",
      "(1916, 3)\n",
      "  user_id site_id_first site_id_last       first_visit_ts  \\\n",
      "0  LC00C3         5NPAU        5NPAU  2019-02-03 18:52:50   \n",
      "1  LC01C3         5NPAU        5NPAU  2019-02-04 11:35:10   \n",
      "2  LC05C3         5NPAU        5NPAU  2019-02-02 14:14:44   \n",
      "3  LC06C3         N0OTG        N0OTG  2019-02-01 22:49:39   \n",
      "4  LC07C3         5NPAU        5NPAU  2019-02-05 19:06:42   \n",
      "\n",
      "         last_visit_ts  same_site_firstlast  \n",
      "0  2019-02-03 18:52:50                 True  \n",
      "1  2019-02-04 11:35:10                 True  \n",
      "2  2019-02-02 14:14:44                 True  \n",
      "3  2019-02-07 01:16:12                 True  \n",
      "4  2019-02-05 19:06:42                 True  \n",
      "(1916, 6)\n",
      "(1670, 6)\n"
     ]
    }
   ],
   "source": [
    "q_firstsite = \"\"\"SELECT user_id, site_id AS site_id_first, min(ts) AS first_visit_ts FROM df_analytics GROUP BY user_id\"\"\"\n",
    "q_lastsite = \"\"\"SELECT user_id, site_id AS site_id_last, max(ts) AS last_visit_ts FROM df_analytics GROUP BY user_id\"\"\"\n",
    "q5_check = \"\"\"SELECT * FROM df_analytics where user_id == 'LC06C3' \"\"\"\n",
    "\n",
    "df_firstsite = pysql(q_firstsite)\n",
    "df_lastsite = pysql(q_lastsite)\n",
    "df3 = pysql(q5_check)\n",
    "q_sitevisits_firstlast = \"\"\"SELECT df_firstsite.user_id, df_firstsite.site_id_first, df_lastsite.site_id_last, df_firstsite.first_visit_ts, df_lastsite.last_visit_ts FROM df_firstsite INNER JOIN df_lastsite ON df_firstsite.user_id = df_lastsite.user_id\"\"\"\n",
    "df_sitevisits_firstlast = pysql(q_sitevisits_firstlast)\n",
    "df_sitevisits_firstlast['same_site_firstlast'] = (df_sitevisits_firstlast['site_id_first'] == df_sitevisits_firstlast['site_id_last'])\n",
    "# All sites, based on metric of last visited site\n",
    "print(df_firstsite.head())\n",
    "print(df_firstsite.shape)\n",
    "\n",
    "print(df_lastsite.head())\n",
    "print(df_lastsite.shape)\n",
    "\n",
    "print(df_sitevisits_firstlast.head())\n",
    "print(df_sitevisits_firstlast.shape)\n",
    "\n",
    "print(df_sitevisits_firstlast[df_sitevisits_firstlast['same_site_firstlast'] == True].shape)"
   ]
  },
  {
   "cell_type": "code",
   "execution_count": null,
   "metadata": {},
   "outputs": [],
   "source": []
  }
 ],
 "metadata": {
  "kernelspec": {
   "display_name": "Python 3",
   "language": "python",
   "name": "python3"
  },
  "language_info": {
   "codemirror_mode": {
    "name": "ipython",
    "version": 3
   },
   "file_extension": ".py",
   "mimetype": "text/x-python",
   "name": "python",
   "nbconvert_exporter": "python",
   "pygments_lexer": "ipython3",
   "version": "3.7.3"
  }
 },
 "nbformat": 4,
 "nbformat_minor": 2
}
